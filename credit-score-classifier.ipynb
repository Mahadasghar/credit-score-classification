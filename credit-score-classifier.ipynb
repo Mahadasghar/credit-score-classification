{
 "cells": [
  {
   "cell_type": "markdown",
   "id": "b69d7cb5",
   "metadata": {
    "papermill": {
     "duration": 0.004607,
     "end_time": "2025-09-26T07:51:47.553485",
     "exception": false,
     "start_time": "2025-09-26T07:51:47.548878",
     "status": "completed"
    },
    "tags": []
   },
   "source": [
    "## Credit Score Classification\n",
    "\n",
    "A clean, reproducible notebook for building a strong tabular classifier with robust preprocessing, cross-validated hyperparameter tuning, and clear evaluation.\n"
   ]
  },
  {
   "cell_type": "markdown",
   "id": "fad43f52",
   "metadata": {
    "papermill": {
     "duration": 0.00353,
     "end_time": "2025-09-26T07:51:47.560914",
     "exception": false,
     "start_time": "2025-09-26T07:51:47.557384",
     "status": "completed"
    },
    "tags": []
   },
   "source": [
    "## 1. Imports & Setup\n",
    "We load core scientific Python packages, visualization tools, and scikit-learn utilities for preprocessing, modeling, and evaluation.\n"
   ]
  },
  {
   "cell_type": "code",
   "execution_count": 1,
   "id": "dfe03e45",
   "metadata": {
    "execution": {
     "iopub.execute_input": "2025-09-26T07:51:47.570310Z",
     "iopub.status.busy": "2025-09-26T07:51:47.569702Z",
     "iopub.status.idle": "2025-09-26T07:51:50.871631Z",
     "shell.execute_reply": "2025-09-26T07:51:50.870830Z"
    },
    "papermill": {
     "duration": 3.308241,
     "end_time": "2025-09-26T07:51:50.873071",
     "exception": false,
     "start_time": "2025-09-26T07:51:47.564830",
     "status": "completed"
    },
    "tags": []
   },
   "outputs": [],
   "source": [
    "import numpy as np\n",
    "import pandas as pd\n",
    "\n",
    "import matplotlib.pyplot as plt\n",
    "import seaborn as sns\n",
    "\n",
    "# Sklearn core\n",
    "from sklearn.model_selection import train_test_split, StratifiedKFold, RandomizedSearchCV\n",
    "from sklearn.metrics import classification_report, confusion_matrix, ConfusionMatrixDisplay\n",
    "\n",
    "from sklearn.compose import ColumnTransformer\n",
    "from sklearn.pipeline import Pipeline\n",
    "from sklearn.impute import SimpleImputer\n",
    "from sklearn.preprocessing import OneHotEncoder, StandardScaler\n",
    "from sklearn.metrics import (\n",
    "    accuracy_score,\n",
    "    classification_report,\n",
    "    confusion_matrix,\n",
    "    roc_auc_score,\n",
    "    roc_curve\n",
    ")\n",
    "from sklearn.inspection import permutation_importance\n",
    "\n",
    "# Models\n",
    "from sklearn.linear_model import LogisticRegression\n",
    "from sklearn.ensemble import RandomForestClassifier\n",
    "\n",
    "# Persistence\n",
    "import joblib\n"
   ]
  },
  {
   "cell_type": "markdown",
   "id": "394c99a3",
   "metadata": {
    "papermill": {
     "duration": 0.003681,
     "end_time": "2025-09-26T07:51:50.880746",
     "exception": false,
     "start_time": "2025-09-26T07:51:50.877065",
     "status": "completed"
    },
    "tags": []
   },
   "source": [
    "## 2. Load Data\n",
    "Read the dataset and take a quick peek.\n"
   ]
  },
  {
   "cell_type": "code",
   "execution_count": 2,
   "id": "88b77b14",
   "metadata": {
    "execution": {
     "iopub.execute_input": "2025-09-26T07:51:50.889139Z",
     "iopub.status.busy": "2025-09-26T07:51:50.888785Z",
     "iopub.status.idle": "2025-09-26T07:51:50.929426Z",
     "shell.execute_reply": "2025-09-26T07:51:50.928708Z"
    },
    "papermill": {
     "duration": 0.046127,
     "end_time": "2025-09-26T07:51:50.930570",
     "exception": false,
     "start_time": "2025-09-26T07:51:50.884443",
     "status": "completed"
    },
    "tags": []
   },
   "outputs": [
    {
     "name": "stdout",
     "output_type": "stream",
     "text": [
      "Dataset Shape: (164, 8)\n",
      "Number of duplicate rows: 62\n"
     ]
    },
    {
     "data": {
      "text/html": [
       "<div>\n",
       "<style scoped>\n",
       "    .dataframe tbody tr th:only-of-type {\n",
       "        vertical-align: middle;\n",
       "    }\n",
       "\n",
       "    .dataframe tbody tr th {\n",
       "        vertical-align: top;\n",
       "    }\n",
       "\n",
       "    .dataframe thead th {\n",
       "        text-align: right;\n",
       "    }\n",
       "</style>\n",
       "<table border=\"1\" class=\"dataframe\">\n",
       "  <thead>\n",
       "    <tr style=\"text-align: right;\">\n",
       "      <th></th>\n",
       "      <th>Age</th>\n",
       "      <th>Gender</th>\n",
       "      <th>Income</th>\n",
       "      <th>Education</th>\n",
       "      <th>Marital Status</th>\n",
       "      <th>Number of Children</th>\n",
       "      <th>Home Ownership</th>\n",
       "      <th>Credit Score</th>\n",
       "    </tr>\n",
       "  </thead>\n",
       "  <tbody>\n",
       "    <tr>\n",
       "      <th>0</th>\n",
       "      <td>25</td>\n",
       "      <td>Female</td>\n",
       "      <td>50000</td>\n",
       "      <td>Bachelor's Degree</td>\n",
       "      <td>Single</td>\n",
       "      <td>0</td>\n",
       "      <td>Rented</td>\n",
       "      <td>High</td>\n",
       "    </tr>\n",
       "    <tr>\n",
       "      <th>1</th>\n",
       "      <td>30</td>\n",
       "      <td>Male</td>\n",
       "      <td>100000</td>\n",
       "      <td>Master's Degree</td>\n",
       "      <td>Married</td>\n",
       "      <td>2</td>\n",
       "      <td>Owned</td>\n",
       "      <td>High</td>\n",
       "    </tr>\n",
       "    <tr>\n",
       "      <th>2</th>\n",
       "      <td>35</td>\n",
       "      <td>Female</td>\n",
       "      <td>75000</td>\n",
       "      <td>Doctorate</td>\n",
       "      <td>Married</td>\n",
       "      <td>1</td>\n",
       "      <td>Owned</td>\n",
       "      <td>High</td>\n",
       "    </tr>\n",
       "    <tr>\n",
       "      <th>3</th>\n",
       "      <td>40</td>\n",
       "      <td>Male</td>\n",
       "      <td>125000</td>\n",
       "      <td>High School Diploma</td>\n",
       "      <td>Single</td>\n",
       "      <td>0</td>\n",
       "      <td>Owned</td>\n",
       "      <td>High</td>\n",
       "    </tr>\n",
       "    <tr>\n",
       "      <th>4</th>\n",
       "      <td>45</td>\n",
       "      <td>Female</td>\n",
       "      <td>100000</td>\n",
       "      <td>Bachelor's Degree</td>\n",
       "      <td>Married</td>\n",
       "      <td>3</td>\n",
       "      <td>Owned</td>\n",
       "      <td>High</td>\n",
       "    </tr>\n",
       "  </tbody>\n",
       "</table>\n",
       "</div>"
      ],
      "text/plain": [
       "   Age  Gender  Income            Education Marital Status  \\\n",
       "0   25  Female   50000    Bachelor's Degree         Single   \n",
       "1   30    Male  100000      Master's Degree        Married   \n",
       "2   35  Female   75000            Doctorate        Married   \n",
       "3   40    Male  125000  High School Diploma         Single   \n",
       "4   45  Female  100000    Bachelor's Degree        Married   \n",
       "\n",
       "   Number of Children Home Ownership Credit Score  \n",
       "0                   0         Rented         High  \n",
       "1                   2          Owned         High  \n",
       "2                   1          Owned         High  \n",
       "3                   0          Owned         High  \n",
       "4                   3          Owned         High  "
      ]
     },
     "execution_count": 2,
     "metadata": {},
     "output_type": "execute_result"
    }
   ],
   "source": [
    "# Load the dataset\n",
    "df = pd.read_csv(\"/kaggle/input/credit-score-classification-dataset/Credit Score Classification Dataset.csv\")\n",
    "\n",
    "# Print dataset dimensions\n",
    "print(f\"Dataset Shape: {df.shape}\")\n",
    "\n",
    "# Check for duplicates\n",
    "print(f\"Number of duplicate rows: {df.duplicated().sum()}\")\n",
    "\n",
    "# Display the first few rows\n",
    "df.head()"
   ]
  },
  {
   "cell_type": "markdown",
   "id": "c7e49e77",
   "metadata": {
    "papermill": {
     "duration": 0.003746,
     "end_time": "2025-09-26T07:51:50.938321",
     "exception": false,
     "start_time": "2025-09-26T07:51:50.934575",
     "status": "completed"
    },
    "tags": []
   },
   "source": [
    "## 3. Exploratory Data Analysis\n",
    "\n"
   ]
  },
  {
   "cell_type": "markdown",
   "id": "e9131c04",
   "metadata": {
    "papermill": {
     "duration": 0.004251,
     "end_time": "2025-09-26T07:51:50.946361",
     "exception": false,
     "start_time": "2025-09-26T07:51:50.942110",
     "status": "completed"
    },
    "tags": []
   },
   "source": [
    "### 3.1 Target Variable Distribution\n"
   ]
  },
  {
   "cell_type": "code",
   "execution_count": 3,
   "id": "09e060e0",
   "metadata": {
    "execution": {
     "iopub.execute_input": "2025-09-26T07:51:50.954793Z",
     "iopub.status.busy": "2025-09-26T07:51:50.954561Z",
     "iopub.status.idle": "2025-09-26T07:51:51.147558Z",
     "shell.execute_reply": "2025-09-26T07:51:51.146773Z"
    },
    "papermill": {
     "duration": 0.198579,
     "end_time": "2025-09-26T07:51:51.148689",
     "exception": false,
     "start_time": "2025-09-26T07:51:50.950110",
     "status": "completed"
    },
    "tags": []
   },
   "outputs": [
    {
     "data": {
      "image/png": "[encoded data removed]",
      "text/plain": [
       "<Figure size 700x500 with 1 Axes>"
      ]
     },
     "metadata": {},
     "output_type": "display_data"
    }
   ],
   "source": [
    "## Section 3.1 Target Variable Distribution\n",
    "\n",
    "plt.figure(figsize=(7, 5))\n",
    "sns.countplot(data=df, x='Credit Score', order=df['Credit Score'].value_counts().index, palette='viridis')\n",
    "plt.title('Distribution of Target Variable (Credit Score)')\n",
    "plt.ylabel('Count')\n",
    "plt.xlabel('Credit Score')\n",
    "plt.show()"
   ]
  },
  {
   "cell_type": "markdown",
   "id": "02633b5c",
   "metadata": {
    "papermill": {
     "duration": 0.004042,
     "end_time": "2025-09-26T07:51:51.157168",
     "exception": false,
     "start_time": "2025-09-26T07:51:51.153126",
     "status": "completed"
    },
    "tags": []
   },
   "source": [
    "### 3.2 Feature Relationships to Target\n"
   ]
  },
  {
   "cell_type": "code",
   "execution_count": 4,
   "id": "afbedf06",
   "metadata": {
    "execution": {
     "iopub.execute_input": "2025-09-26T07:51:51.166422Z",
     "iopub.status.busy": "2025-09-26T07:51:51.166201Z",
     "iopub.status.idle": "2025-09-26T07:51:51.444664Z",
     "shell.execute_reply": "2025-09-26T07:51:51.443854Z"
    },
    "papermill": {
     "duration": 0.28457,
     "end_time": "2025-09-26T07:51:51.445951",
     "exception": false,
     "start_time": "2025-09-26T07:51:51.161381",
     "status": "completed"
    },
    "tags": []
   },
   "outputs": [
    {
     "data": {
      "image/png": "[encoded data removed]",
      "text/plain": [
       "<Figure size 1000x600 with 1 Axes>"
      ]
     },
     "metadata": {},
     "output_type": "display_data"
    },
    {
     "data": {
      "image/png": "[encoded data removed]",
      "text/plain": [
       "<Figure size 800x500 with 1 Axes>"
      ]
     },
     "metadata": {},
     "output_type": "display_data"
    }
   ],
   "source": [
    "## Section 3.2 Feature Relationships to Target\n",
    "\n",
    "# Box plot for Income vs. Credit Score\n",
    "plt.figure(figsize=(10, 6))\n",
    "sns.boxplot(data=df, x='Credit Score', y='Income', order=df['Credit Score'].value_counts().index, palette='crest')\n",
    "plt.title('Income Distribution Across Credit Scores')\n",
    "plt.show()\n",
    "\n",
    "# Count plot for Home Ownership vs. Credit Score\n",
    "plt.figure(figsize=(8, 5))\n",
    "sns.countplot(data=df, x='Home Ownership', hue='Credit Score', palette='magma')\n",
    "plt.title('Credit Score by Home Ownership Status')\n",
    "plt.show()"
   ]
  },
  {
   "cell_type": "markdown",
   "id": "1399b88c",
   "metadata": {
    "papermill": {
     "duration": 0.005024,
     "end_time": "2025-09-26T07:51:51.456289",
     "exception": false,
     "start_time": "2025-09-26T07:51:51.451265",
     "status": "completed"
    },
    "tags": []
   },
   "source": [
    "### 3.3 Missing Value Analysis\n"
   ]
  },
  {
   "cell_type": "code",
   "execution_count": 5,
   "id": "f6d8b2ba",
   "metadata": {
    "execution": {
     "iopub.execute_input": "2025-09-26T07:51:51.467281Z",
     "iopub.status.busy": "2025-09-26T07:51:51.467025Z",
     "iopub.status.idle": "2025-09-26T07:51:51.473105Z",
     "shell.execute_reply": "2025-09-26T07:51:51.472423Z"
    },
    "papermill": {
     "duration": 0.012872,
     "end_time": "2025-09-26T07:51:51.474100",
     "exception": false,
     "start_time": "2025-09-26T07:51:51.461228",
     "status": "completed"
    },
    "tags": []
   },
   "outputs": [
    {
     "name": "stdout",
     "output_type": "stream",
     "text": [
      "--- Missing Values per Column ---\n",
      "Series([], dtype: int64)\n",
      "No missing values found. Data is clean.\n"
     ]
    }
   ],
   "source": [
    "## Section 3.3 Missing Value Analysis\n",
    "\n",
    "missing_values = df.isnull().sum()\n",
    "print(\"--- Missing Values per Column ---\")\n",
    "print(missing_values[missing_values > 0].sort_values(ascending=False))\n",
    "if missing_values.sum() == 0:\n",
    "    print(\"No missing values found. Data is clean.\")"
   ]
  },
  {
   "cell_type": "markdown",
   "id": "5d78f087",
   "metadata": {
    "papermill": {
     "duration": 0.004791,
     "end_time": "2025-09-26T07:51:51.483860",
     "exception": false,
     "start_time": "2025-09-26T07:51:51.479069",
     "status": "completed"
    },
    "tags": []
   },
   "source": [
    "## 4. Feature Definition\n"
   ]
  },
  {
   "cell_type": "code",
   "execution_count": 6,
   "id": "e20714ee",
   "metadata": {
    "execution": {
     "iopub.execute_input": "2025-09-26T07:51:51.494532Z",
     "iopub.status.busy": "2025-09-26T07:51:51.494304Z",
     "iopub.status.idle": "2025-09-26T07:51:51.498820Z",
     "shell.execute_reply": "2025-09-26T07:51:51.498179Z"
    },
    "papermill": {
     "duration": 0.011189,
     "end_time": "2025-09-26T07:51:51.499907",
     "exception": false,
     "start_time": "2025-09-26T07:51:51.488718",
     "status": "completed"
    },
    "tags": []
   },
   "outputs": [
    {
     "name": "stdout",
     "output_type": "stream",
     "text": [
      "Target Column: Credit Score\n",
      "Total Features: 7\n",
      "Numerical Features: ['Age', 'Income', 'Number of Children']\n",
      "Categorical Features: ['Gender', 'Education', 'Marital Status', 'Home Ownership']\n"
     ]
    }
   ],
   "source": [
    "TARGET_COLUMN = 'Credit Score'\n",
    "\n",
    "num_cols = [\n",
    "    'Age', \n",
    "    'Income', \n",
    "    'Number of Children'\n",
    "]\n",
    "\n",
    "cat_cols = [\n",
    "    'Gender', \n",
    "    'Education', \n",
    "    'Marital Status', \n",
    "    'Home Ownership'\n",
    "]\n",
    "\n",
    "# Display the final features set\n",
    "print(f\"Target Column: {TARGET_COLUMN}\")\n",
    "print(f\"Total Features: {len(num_cols) + len(cat_cols)}\")\n",
    "print(f\"Numerical Features: {num_cols}\")\n",
    "print(f\"Categorical Features: {cat_cols}\")"
   ]
  },
  {
   "cell_type": "markdown",
   "id": "fef86db1",
   "metadata": {
    "papermill": {
     "duration": 0.005945,
     "end_time": "2025-09-26T07:51:51.510822",
     "exception": false,
     "start_time": "2025-09-26T07:51:51.504877",
     "status": "completed"
    },
    "tags": []
   },
   "source": [
    "### 4.1 Train/Test Split\n",
    "We keep a stratified hold-out test set to evaluate generalization fairly.\n"
   ]
  },
  {
   "cell_type": "code",
   "execution_count": 7,
   "id": "205242db",
   "metadata": {
    "execution": {
     "iopub.execute_input": "2025-09-26T07:51:51.521626Z",
     "iopub.status.busy": "2025-09-26T07:51:51.521095Z",
     "iopub.status.idle": "2025-09-26T07:51:51.530454Z",
     "shell.execute_reply": "2025-09-26T07:51:51.529836Z"
    },
    "papermill": {
     "duration": 0.015789,
     "end_time": "2025-09-26T07:51:51.531550",
     "exception": false,
     "start_time": "2025-09-26T07:51:51.515761",
     "status": "completed"
    },
    "tags": []
   },
   "outputs": [
    {
     "name": "stdout",
     "output_type": "stream",
     "text": [
      "Train: (131, 7), Test: (33, 7)\n"
     ]
    }
   ],
   "source": [
    "X = df.drop(columns=['Credit Score'])\n",
    "y = df['Credit Score']\n",
    "# Train/test split with stratification\n",
    "X_train, X_test, y_train, y_test = train_test_split(\n",
    "    X, y, test_size=0.2, random_state=42, stratify=y\n",
    ")\n",
    "print(f\"Train: {X_train.shape}, Test: {X_test.shape}\")"
   ]
  },
  {
   "cell_type": "markdown",
   "id": "e7abeb58",
   "metadata": {
    "papermill": {
     "duration": 0.004874,
     "end_time": "2025-09-26T07:51:51.541457",
     "exception": false,
     "start_time": "2025-09-26T07:51:51.536583",
     "status": "completed"
    },
    "tags": []
   },
   "source": [
    "## 5. Preprocessing Pipeline\n",
    "We build a reusable preprocessing pipeline for numeric and categorical columns using imputation, scaling, and one-hot encoding.\n"
   ]
  },
  {
   "cell_type": "code",
   "execution_count": 8,
   "id": "6e477060",
   "metadata": {
    "execution": {
     "iopub.execute_input": "2025-09-26T07:51:51.552037Z",
     "iopub.status.busy": "2025-09-26T07:51:51.551834Z",
     "iopub.status.idle": "2025-09-26T07:51:51.556748Z",
     "shell.execute_reply": "2025-09-26T07:51:51.556252Z"
    },
    "papermill": {
     "duration": 0.011377,
     "end_time": "2025-09-26T07:51:51.557789",
     "exception": false,
     "start_time": "2025-09-26T07:51:51.546412",
     "status": "completed"
    },
    "tags": []
   },
   "outputs": [],
   "source": [
    "# Preprocessing pipelines\n",
    "numeric_transformer = Pipeline(steps=[\n",
    "    (\"imputer\", SimpleImputer(strategy=\"median\")),\n",
    "    (\"scaler\", StandardScaler())\n",
    "])\n",
    "\n",
    "categorical_transformer = Pipeline(steps=[\n",
    "    (\"imputer\", SimpleImputer(strategy=\"most_frequent\")),\n",
    "    (\"onehot\", OneHotEncoder(handle_unknown=\"ignore\"))\n",
    "])\n",
    "\n",
    "preprocessor = ColumnTransformer(\n",
    "    transformers=[\n",
    "        (\"num\", numeric_transformer, num_cols),\n",
    "        (\"cat\", categorical_transformer, cat_cols)\n",
    "    ], remainder='drop'\n",
    ")\n",
    "\n",
    "# Helper to get feature names after preprocessing\n",
    "def get_preprocessed_feature_names(preprocessor: ColumnTransformer) -> list:\n",
    "    output_features = []\n",
    "    if num_cols:\n",
    "        output_features.extend(num_cols)\n",
    "    if cat_cols:\n",
    "        try:\n",
    "            ohe = preprocessor.named_transformers_[\"cat\"].named_steps[\"onehot\"]\n",
    "            ohe_features = ohe.get_feature_names_out(cat_cols).tolist()\n",
    "        except Exception:\n",
    "            ohe_features = []\n",
    "        output_features = output_features + ohe_features\n",
    "    return output_features"
   ]
  },
  {
   "cell_type": "markdown",
   "id": "f024868d",
   "metadata": {
    "papermill": {
     "duration": 0.00501,
     "end_time": "2025-09-26T07:51:51.567904",
     "exception": false,
     "start_time": "2025-09-26T07:51:51.562894",
     "status": "completed"
    },
    "tags": []
   },
   "source": [
    "## 6. Model\n",
    "We define a strong baseline model (`RandomForestClassifier`).\n"
   ]
  },
  {
   "cell_type": "code",
   "execution_count": 9,
   "id": "1950e604",
   "metadata": {
    "execution": {
     "iopub.execute_input": "2025-09-26T07:51:51.578583Z",
     "iopub.status.busy": "2025-09-26T07:51:51.578350Z",
     "iopub.status.idle": "2025-09-26T07:51:51.583381Z",
     "shell.execute_reply": "2025-09-26T07:51:51.582926Z"
    },
    "papermill": {
     "duration": 0.011641,
     "end_time": "2025-09-26T07:51:51.584414",
     "exception": false,
     "start_time": "2025-09-26T07:51:51.572773",
     "status": "completed"
    },
    "tags": []
   },
   "outputs": [],
   "source": [
    "# Define models\n",
    "log_reg = LogisticRegression(max_iter=2000, n_jobs=None, class_weight=\"balanced\", multi_class=\"auto\")\n",
    "rf_clf = RandomForestClassifier(\n",
    "    n_estimators=400,\n",
    "    random_state=42,\n",
    "    class_weight=\"balanced_subsample\",\n",
    "    n_jobs=-1\n",
    ")\n",
    "\n",
    "# Build full pipeline with RandomForest (often strong baseline for tabular)\n",
    "rf_pipeline = Pipeline(steps=[\n",
    "    (\"preprocess\", preprocessor),\n",
    "    (\"model\", rf_clf)\n",
    "])\n",
    "\n",
    "# Hyperparameter search space for RF\n",
    "rf_param_distributions = {\n",
    "    \"model__n_estimators\": [200, 300, 400, 600, 800],\n",
    "    \"model__max_depth\": [None, 5, 10, 15, 20, 30],\n",
    "    \"model__min_samples_split\": [2, 5, 10, 20],\n",
    "    \"model__min_samples_leaf\": [1, 2, 4, 8],\n",
    "    \"model__max_features\": [\"sqrt\", \"log2\", 0.5, 0.7, 1.0]\n",
    "}\n",
    "\n",
    "cv = StratifiedKFold(n_splits=5, shuffle=True, random_state=42)\n",
    "rf_search = RandomizedSearchCV(\n",
    "    estimator=rf_pipeline,\n",
    "    param_distributions=rf_param_distributions,\n",
    "    n_iter=30,\n",
    "    scoring=\"f1_macro\",\n",
    "    cv=cv,\n",
    "    n_jobs=-1,\n",
    "    verbose=1,\n",
    "    random_state=42\n",
    ")"
   ]
  },
  {
   "cell_type": "markdown",
   "id": "ddbd302d",
   "metadata": {
    "papermill": {
     "duration": 0.004831,
     "end_time": "2025-09-26T07:51:51.594170",
     "exception": false,
     "start_time": "2025-09-26T07:51:51.589339",
     "status": "completed"
    },
    "tags": []
   },
   "source": [
    "## 6. Fit with Cross-Validation\n",
    "Run randomized search with stratified folds optimizing F1-macro.\n"
   ]
  },
  {
   "cell_type": "code",
   "execution_count": 10,
   "id": "19295349",
   "metadata": {
    "execution": {
     "iopub.execute_input": "2025-09-26T07:51:51.604811Z",
     "iopub.status.busy": "2025-09-26T07:51:51.604596Z",
     "iopub.status.idle": "2025-09-26T07:52:51.124168Z",
     "shell.execute_reply": "2025-09-26T07:52:51.123429Z"
    },
    "papermill": {
     "duration": 59.530937,
     "end_time": "2025-09-26T07:52:51.130052",
     "exception": false,
     "start_time": "2025-09-26T07:51:51.599115",
     "status": "completed"
    },
    "tags": []
   },
   "outputs": [
    {
     "name": "stdout",
     "output_type": "stream",
     "text": [
      "Fitting 5 folds for each of 30 candidates, totalling 150 fits\n",
      "Best CV score (f1_macro): 0.9657912457912458\n",
      "Best params: {'model__n_estimators': 300, 'model__min_samples_split': 2, 'model__min_samples_leaf': 1, 'model__max_features': 1.0, 'model__max_depth': 15}\n"
     ]
    }
   ],
   "source": [
    "# Run hyperparameter search\n",
    "rf_search.fit(X_train, y_train)\n",
    "print(\"Best CV score (f1_macro):\", rf_search.best_score_)\n",
    "print(\"Best params:\", rf_search.best_params_)\n",
    "\n",
    "best_model = rf_search.best_estimator_\n"
   ]
  },
  {
   "cell_type": "markdown",
   "id": "04d2756b",
   "metadata": {
    "papermill": {
     "duration": 0.004895,
     "end_time": "2025-09-26T07:52:51.140198",
     "exception": false,
     "start_time": "2025-09-26T07:52:51.135303",
     "status": "completed"
    },
    "tags": []
   },
   "source": [
    "## 7 Classification Report & Confusion Matrix\n"
   ]
  },
  {
   "cell_type": "code",
   "execution_count": 11,
   "id": "3c8f24a9",
   "metadata": {
    "execution": {
     "iopub.execute_input": "2025-09-26T07:52:51.151450Z",
     "iopub.status.busy": "2025-09-26T07:52:51.150870Z",
     "iopub.status.idle": "2025-09-26T07:52:51.403661Z",
     "shell.execute_reply": "2025-09-26T07:52:51.402890Z"
    },
    "papermill": {
     "duration": 0.259752,
     "end_time": "2025-09-26T07:52:51.405020",
     "exception": false,
     "start_time": "2025-09-26T07:52:51.145268",
     "status": "completed"
    },
    "tags": []
   },
   "outputs": [
    {
     "name": "stdout",
     "output_type": "stream",
     "text": [
      "--- 6.1 Classification Report ---\n",
      "              precision    recall  f1-score   support\n",
      "\n",
      "     Average       1.00      1.00      1.00         7\n",
      "        High       1.00      1.00      1.00        23\n",
      "         Low       1.00      1.00      1.00         3\n",
      "\n",
      "    accuracy                           1.00        33\n",
      "   macro avg       1.00      1.00      1.00        33\n",
      "weighted avg       1.00      1.00      1.00        33\n",
      "\n",
      "--- 6.2 Confusion Matrix Plot ---\n"
     ]
    },
    {
     "data": {
      "text/plain": [
       "<Figure size 800x600 with 0 Axes>"
      ]
     },
     "metadata": {},
     "output_type": "display_data"
    },
    {
     "data": {
      "image/png": "[encoded data removed]",
      "text/plain": [
       "<Figure size 640x480 with 2 Axes>"
      ]
     },
     "metadata": {},
     "output_type": "display_data"
    }
   ],
   "source": [
    "y_pred = best_model.predict(X_test)\n",
    "\n",
    "# 6.1 Classification Report\n",
    "print(\"--- 6.1 Classification Report ---\")\n",
    "print(classification_report(y_test, y_pred, zero_division=0))\n",
    "\n",
    "\n",
    "# 6.2 Confusion Matrix Plot\n",
    "print(\"--- 6.2 Confusion Matrix Plot ---\")\n",
    "cm = confusion_matrix(y_test, y_pred, labels=best_model.classes_)\n",
    "\n",
    "plt.figure(figsize=(8, 6))\n",
    "disp = ConfusionMatrixDisplay(confusion_matrix=cm, display_labels=best_model.classes_)\n",
    "disp.plot(cmap=plt.cm.Blues)\n",
    "plt.title('Confusion Matrix on Test Data')\n",
    "plt.grid(False) # Turn off grid for cleaner look\n",
    "plt.show()"
   ]
  },
  {
   "cell_type": "markdown",
   "id": "37d713d1",
   "metadata": {
    "papermill": {
     "duration": 0.005749,
     "end_time": "2025-09-26T07:52:51.416755",
     "exception": false,
     "start_time": "2025-09-26T07:52:51.411006",
     "status": "completed"
    },
    "tags": []
   },
   "source": [
    "### 7.1 Multiclass ROC-AUC Score"
   ]
  },
  {
   "cell_type": "code",
   "execution_count": 12,
   "id": "250c5bfc",
   "metadata": {
    "execution": {
     "iopub.execute_input": "2025-09-26T07:52:51.428748Z",
     "iopub.status.busy": "2025-09-26T07:52:51.428534Z",
     "iopub.status.idle": "2025-09-26T07:52:51.563019Z",
     "shell.execute_reply": "2025-09-26T07:52:51.562152Z"
    },
    "papermill": {
     "duration": 0.14191,
     "end_time": "2025-09-26T07:52:51.564184",
     "exception": false,
     "start_time": "2025-09-26T07:52:51.422274",
     "status": "completed"
    },
    "tags": []
   },
   "outputs": [
    {
     "name": "stdout",
     "output_type": "stream",
     "text": [
      "ROC-AUC: 1.0\n",
      "Saved model to best_credit_score_model.joblib\n"
     ]
    }
   ],
   "source": [
    "# For multiclass ROC-AUC, we can use OvR setting\n",
    "try:\n",
    "    y_proba = best_model.predict_proba(X_test)\n",
    "    if y_proba.ndim == 2 and y_proba.shape[1] > 2:\n",
    "        auc = roc_auc_score(y_test, y_proba, multi_class='ovr')\n",
    "    else:\n",
    "        auc = roc_auc_score(y_test, y_proba[:, 1])\n",
    "    print(\"ROC-AUC:\", auc)\n",
    "except Exception as e:\n",
    "    print(\"ROC-AUC not available:\", e)\n",
    "\n",
    "# Persist the best model\n",
    "joblib.dump(best_model, 'best_credit_score_model.joblib')\n",
    "print(\"Saved model to best_credit_score_model.joblib\")"
   ]
  },
  {
   "cell_type": "markdown",
   "id": "b966f40d",
   "metadata": {
    "papermill": {
     "duration": 0.005728,
     "end_time": "2025-09-26T07:52:51.576086",
     "exception": false,
     "start_time": "2025-09-26T07:52:51.570358",
     "status": "completed"
    },
    "tags": []
   },
   "source": [
    "### 7.2 Permutation Feature Importance"
   ]
  },
  {
   "cell_type": "code",
   "execution_count": 13,
   "id": "25aabe86",
   "metadata": {
    "execution": {
     "iopub.execute_input": "2025-09-26T07:52:51.589121Z",
     "iopub.status.busy": "2025-09-26T07:52:51.588438Z",
     "iopub.status.idle": "2025-09-26T07:52:53.391853Z",
     "shell.execute_reply": "2025-09-26T07:52:53.391216Z"
    },
    "papermill": {
     "duration": 1.811245,
     "end_time": "2025-09-26T07:52:53.393095",
     "exception": false,
     "start_time": "2025-09-26T07:52:51.581850",
     "status": "completed"
    },
    "tags": []
   },
   "outputs": [
    {
     "data": {
      "image/png": "[encoded data removed]",
      "text/plain": [
       "<Figure size 800x500 with 1 Axes>"
      ]
     },
     "metadata": {},
     "output_type": "display_data"
    }
   ],
   "source": [
    "# Feature importance via permutation_importance on the test set\n",
    "try:\n",
    "    # Grab the fitted preprocessing + model pipeline\n",
    "    fitted_pre = best_model.named_steps['preprocess']\n",
    "    feature_names = get_preprocessed_feature_names(fitted_pre)\n",
    "except Exception:\n",
    "    feature_names = None\n",
    "\n",
    "result = permutation_importance(\n",
    "    best_model, X_test, y_test, n_repeats=10, random_state=42, n_jobs=-1, scoring='f1_macro'\n",
    ")\n",
    "importances = result.importances_mean\n",
    "indices = np.argsort(importances)[::-1]\n",
    "\n",
    "top_k = min(15, len(importances))\n",
    "plt.figure(figsize=(8, 5))\n",
    "labels = [feature_names[i] if feature_names is not None and i < len(feature_names) else f\"f{i}\" for i in indices[:top_k]]\n",
    "plt.barh(range(top_k), importances[indices[:top_k]][::-1])\n",
    "plt.yticks(range(top_k), labels[::-1])\n",
    "plt.xlabel('Permutation importance (F1-macro)')\n",
    "plt.title('Top features')\n",
    "plt.tight_layout()\n",
    "plt.show()\n"
   ]
  },
  {
   "cell_type": "markdown",
   "id": "3b4ce4b7",
   "metadata": {
    "papermill": {
     "duration": 0.005918,
     "end_time": "2025-09-26T07:52:53.405819",
     "exception": false,
     "start_time": "2025-09-26T07:52:53.399901",
     "status": "completed"
    },
    "tags": []
   },
   "source": [
    "## 8. Save Model & How To Use\n",
    "We save the fitted pipeline and show how to load and predict in a new session.\n"
   ]
  },
  {
   "cell_type": "code",
   "execution_count": 14,
   "id": "4f19fff9",
   "metadata": {
    "execution": {
     "iopub.execute_input": "2025-09-26T07:52:53.418907Z",
     "iopub.status.busy": "2025-09-26T07:52:53.418656Z",
     "iopub.status.idle": "2025-09-26T07:52:53.585544Z",
     "shell.execute_reply": "2025-09-26T07:52:53.584777Z"
    },
    "papermill": {
     "duration": 0.174764,
     "end_time": "2025-09-26T07:52:53.586653",
     "exception": false,
     "start_time": "2025-09-26T07:52:53.411889",
     "status": "completed"
    },
    "tags": []
   },
   "outputs": [
    {
     "name": "stdout",
     "output_type": "stream",
     "text": [
      "Prediction for raw data: High\n",
      "Prediction Probabilities: [0.15333333 0.84666667 0.        ]\n"
     ]
    }
   ],
   "source": [
    "import joblib\n",
    "import pandas as pd\n",
    "\n",
    "# Load the saved pipeline\n",
    "loaded_pipeline = joblib.load('best_credit_score_model.joblib')\n",
    "\n",
    "# --- 1. Create a single row of RAW, UNPROCESSED data ---\n",
    "# This data MUST look exactly like a row from your original CSV file\n",
    "raw_test_data = pd.DataFrame({\n",
    "    'Age': [30],\n",
    "    'Gender': ['Female'],\n",
    "    'Income': [75000],\n",
    "    'Education': [\"Master's Degree\"],\n",
    "    'Marital Status': ['Married'],\n",
    "    'Number of Children': [1],\n",
    "    'Home Ownership': ['Owned']\n",
    "})\n",
    "\n",
    "# --- 2. Test the prediction ---\n",
    "# If this line runs successfully, the pipeline was saved correctly!\n",
    "prediction = loaded_pipeline.predict(raw_test_data)\n",
    "probability = loaded_pipeline.predict_proba(raw_test_data)\n",
    "\n",
    "print(f\"Prediction for raw data: {prediction[0]}\")\n",
    "print(f\"Prediction Probabilities: {probability[0]}\")"
   ]
  },
  {
   "cell_type": "markdown",
   "id": "a05733fb",
   "metadata": {
    "papermill": {
     "duration": 0.005953,
     "end_time": "2025-09-26T07:52:53.599103",
     "exception": false,
     "start_time": "2025-09-26T07:52:53.593150",
     "status": "completed"
    },
    "tags": []
   },
   "source": [
    "## 9. Verdict / Result\n",
    "\n",
    "The final modeling approach successfully delivered a robust classification system:\n",
    "\n",
    "* **Reproducibility:** The end-to-end pipeline, utilizing a `ColumnTransformer`, ensures clean and reliable handling of numeric and categorical features.\n",
    "* **Optimization:** Stratified splitting and cross-validated tuning optimized the model for the critical `f1_macro` metric, providing confidence in performance across all credit score classes despite any class imbalance.\n",
    "* **Performance:** The tuned `RandomForestClassifier` achieved strong performance on the hold-out test set, as detailed in the Classification Report and Confusion Matrix.\n",
    "* **Model Persistence:** The final, optimized pipeline (including preprocessing steps) is saved as `best_credit_score_model.joblib` and can be loaded directly for deployment.\n",
    "\n"
   ]
  },
  {
   "cell_type": "code",
   "execution_count": null,
   "id": "13fa1f0e",
   "metadata": {
    "papermill": {
     "duration": 0.005875,
     "end_time": "2025-09-26T07:52:53.610856",
     "exception": false,
     "start_time": "2025-09-26T07:52:53.604981",
     "status": "completed"
    },
    "tags": []
   },
   "outputs": [],
   "source": []
  }
 ],
 "metadata": {
  "kaggle": {
   "accelerator": "gpu",
   "dataSources": [
    {
     "datasetId": 3304781,
     "sourceId": 5744842,
     "sourceType": "datasetVersion"
    }
   ],
   "dockerImageVersionId": 31089,
   "isGpuEnabled": true,
   "isInternetEnabled": true,
   "language": "python",
   "sourceType": "notebook"
  },
  "kernelspec": {
   "display_name": "Python 3",
   "language": "python",
   "name": "python3"
  },
  "language_info": {
   "codemirror_mode": {
    "name": "ipython",
    "version": 3
   },
   "file_extension": ".py",
   "mimetype": "text/x-python",
   "name": "python",
   "nbconvert_exporter": "python",
   "pygments_lexer": "ipython3",
   "version": "3.11.13"
  },
  "papermill": {
   "default_parameters": {},
   "duration": 72.662108,
   "end_time": "2025-09-26T07:52:56.235921",
   "environment_variables": {},
   "exception": null,
   "input_path": "__notebook__.ipynb",
   "output_path": "__notebook__.ipynb",
   "parameters": {},
   "start_time": "2025-09-26T07:51:43.573813",
   "version": "2.6.0"
  }
 },
 "nbformat": 4,
 "nbformat_minor": 5
}
