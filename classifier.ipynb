{
 "cells": [
  {
   "cell_type": "markdown",
   "metadata": {},
   "source": [
    "## Credit Score Classification\n",
    "\n",
    "A clean, reproducible notebook for building a strong tabular classifier with robust preprocessing, cross-validated hyperparameter tuning, and clear evaluation.\n"
   ]
  },
  {
   "cell_type": "markdown",
   "metadata": {},
   "source": [
    "### 1. Imports & Setup\n",
    "We load core scientific Python packages, visualization tools, and scikit-learn utilities for preprocessing, modeling, and evaluation.\n"
   ]
  },
  {
   "cell_type": "code",
   "execution_count": 98,
   "metadata": {},
   "outputs": [],
   "source": [
    "import numpy as np\n",
    "import pandas as pd\n",
    "\n",
    "import matplotlib.pyplot as plt\n",
    "import seaborn as sns\n",
    "\n",
    "# Sklearn core\n",
    "from sklearn.model_selection import train_test_split, StratifiedKFold, RandomizedSearchCV\n",
    "from sklearn.metrics import classification_report, confusion_matrix, ConfusionMatrixDisplay\n",
    "\n",
    "from sklearn.compose import ColumnTransformer\n",
    "from sklearn.pipeline import Pipeline\n",
    "from sklearn.impute import SimpleImputer\n",
    "from sklearn.preprocessing import OneHotEncoder, StandardScaler\n",
    "from sklearn.metrics import (\n",
    "    accuracy_score,\n",
    "    classification_report,\n",
    "    confusion_matrix,\n",
    "    roc_auc_score,\n",
    "    roc_curve\n",
    ")\n",
    "from sklearn.inspection import permutation_importance\n",
    "\n",
    "# Models\n",
    "from sklearn.linear_model import LogisticRegression\n",
    "from sklearn.ensemble import RandomForestClassifier\n",
    "\n",
    "# Persistence\n",
    "import joblib\n"
   ]
  },
  {
   "cell_type": "markdown",
   "metadata": {},
   "source": [
    "### 2. Load Data\n",
    "Read the dataset and take a quick peek.\n"
   ]
  },
  {
   "cell_type": "code",
   "execution_count": 99,
   "metadata": {},
   "outputs": [
    {
     "name": "stdout",
     "output_type": "stream",
     "text": [
      "Dataset Shape: (164, 8)\n",
      "Number of duplicate rows: 62\n"
     ]
    },
    {
     "data": {
      "text/html": [
       "<div>\n",
       "<style scoped>\n",
       "    .dataframe tbody tr th:only-of-type {\n",
       "        vertical-align: middle;\n",
       "    }\n",
       "\n",
       "    .dataframe tbody tr th {\n",
       "        vertical-align: top;\n",
       "    }\n",
       "\n",
       "    .dataframe thead th {\n",
       "        text-align: right;\n",
       "    }\n",
       "</style>\n",
       "<table border=\"1\" class=\"dataframe\">\n",
       "  <thead>\n",
       "    <tr style=\"text-align: right;\">\n",
       "      <th></th>\n",
       "      <th>Age</th>\n",
       "      <th>Gender</th>\n",
       "      <th>Income</th>\n",
       "      <th>Education</th>\n",
       "      <th>Marital Status</th>\n",
       "      <th>Number of Children</th>\n",
       "      <th>Home Ownership</th>\n",
       "      <th>Credit Score</th>\n",
       "    </tr>\n",
       "  </thead>\n",
       "  <tbody>\n",
       "    <tr>\n",
       "      <th>0</th>\n",
       "      <td>25</td>\n",
       "      <td>Female</td>\n",
       "      <td>50000</td>\n",
       "      <td>Bachelor's Degree</td>\n",
       "      <td>Single</td>\n",
       "      <td>0</td>\n",
       "      <td>Rented</td>\n",
       "      <td>High</td>\n",
       "    </tr>\n",
       "    <tr>\n",
       "      <th>1</th>\n",
       "      <td>30</td>\n",
       "      <td>Male</td>\n",
       "      <td>100000</td>\n",
       "      <td>Master's Degree</td>\n",
       "      <td>Married</td>\n",
       "      <td>2</td>\n",
       "      <td>Owned</td>\n",
       "      <td>High</td>\n",
       "    </tr>\n",
       "    <tr>\n",
       "      <th>2</th>\n",
       "      <td>35</td>\n",
       "      <td>Female</td>\n",
       "      <td>75000</td>\n",
       "      <td>Doctorate</td>\n",
       "      <td>Married</td>\n",
       "      <td>1</td>\n",
       "      <td>Owned</td>\n",
       "      <td>High</td>\n",
       "    </tr>\n",
       "    <tr>\n",
       "      <th>3</th>\n",
       "      <td>40</td>\n",
       "      <td>Male</td>\n",
       "      <td>125000</td>\n",
       "      <td>High School Diploma</td>\n",
       "      <td>Single</td>\n",
       "      <td>0</td>\n",
       "      <td>Owned</td>\n",
       "      <td>High</td>\n",
       "    </tr>\n",
       "    <tr>\n",
       "      <th>4</th>\n",
       "      <td>45</td>\n",
       "      <td>Female</td>\n",
       "      <td>100000</td>\n",
       "      <td>Bachelor's Degree</td>\n",
       "      <td>Married</td>\n",
       "      <td>3</td>\n",
       "      <td>Owned</td>\n",
       "      <td>High</td>\n",
       "    </tr>\n",
       "  </tbody>\n",
       "</table>\n",
       "</div>"
      ],
      "text/plain": [
       "   Age  Gender  Income            Education Marital Status  \\\n",
       "0   25  Female   50000    Bachelor's Degree         Single   \n",
       "1   30    Male  100000      Master's Degree        Married   \n",
       "2   35  Female   75000            Doctorate        Married   \n",
       "3   40    Male  125000  High School Diploma         Single   \n",
       "4   45  Female  100000    Bachelor's Degree        Married   \n",
       "\n",
       "   Number of Children Home Ownership Credit Score  \n",
       "0                   0         Rented         High  \n",
       "1                   2          Owned         High  \n",
       "2                   1          Owned         High  \n",
       "3                   0          Owned         High  \n",
       "4                   3          Owned         High  "
      ]
     },
     "execution_count": 99,
     "metadata": {},
     "output_type": "execute_result"
    }
   ],
   "source": [
    "# Load the dataset\n",
    "df = pd.read_csv(\"Credit Score Classification Dataset.csv\")\n",
    "\n",
    "# Print dataset dimensions\n",
    "print(f\"Dataset Shape: {df.shape}\")\n",
    "\n",
    "# Check for duplicates\n",
    "print(f\"Number of duplicate rows: {df.duplicated().sum()}\")\n",
    "\n",
    "# Display the first few rows\n",
    "df.head()"
   ]
  },
  {
   "cell_type": "markdown",
   "metadata": {},
   "source": [
    "### 3. Exploratory Data Analysis\n",
    "\n"
   ]
  },
  {
   "cell_type": "markdown",
   "metadata": {},
   "source": [
    "3.1 Target Variable Distribution\n"
   ]
  },
  {
   "cell_type": "code",
   "execution_count": 100,
   "metadata": {},
   "outputs": [
    {
     "data": {
      "image/png": "[encoded data removed]",
      "text/plain": [
       "<Figure size 700x500 with 1 Axes>"
      ]
     },
     "metadata": {},
     "output_type": "display_data"
    }
   ],
   "source": [
    "## Section 3.1 Target Variable Distribution\n",
    "\n",
    "plt.figure(figsize=(7, 5))\n",
    "sns.countplot(data=df, x='Credit Score', order=df['Credit Score'].value_counts().index, palette='viridis')\n",
    "plt.title('Distribution of Target Variable (Credit Score)')\n",
    "plt.ylabel('Count')\n",
    "plt.xlabel('Credit Score')\n",
    "plt.show()"
   ]
  },
  {
   "cell_type": "markdown",
   "metadata": {},
   "source": [
    "3.2 Feature Relationships to Target\n"
   ]
  },
  {
   "cell_type": "code",
   "execution_count": 101,
   "metadata": {},
   "outputs": [
    {
     "data": {
      "image/png": "[encoded data removed]",
      "text/plain": [
       "<Figure size 1000x600 with 1 Axes>"
      ]
     },
     "metadata": {},
     "output_type": "display_data"
    },
    {
     "data": {
      "image/png": "[encoded data removed]",
      "text/plain": [
       "<Figure size 800x500 with 1 Axes>"
      ]
     },
     "metadata": {},
     "output_type": "display_data"
    }
   ],
   "source": [
    "## Section 3.2 Feature Relationships to Target\n",
    "\n",
    "# Box plot for Income vs. Credit Score\n",
    "plt.figure(figsize=(10, 6))\n",
    "sns.boxplot(data=df, x='Credit Score', y='Income', order=df['Credit Score'].value_counts().index, palette='crest')\n",
    "plt.title('Income Distribution Across Credit Scores')\n",
    "plt.show()\n",
    "\n",
    "# Count plot for Home Ownership vs. Credit Score\n",
    "plt.figure(figsize=(8, 5))\n",
    "sns.countplot(data=df, x='Home Ownership', hue='Credit Score', palette='magma')\n",
    "plt.title('Credit Score by Home Ownership Status')\n",
    "plt.show()"
   ]
  },
  {
   "cell_type": "markdown",
   "metadata": {},
   "source": [
    "3.3 Missing Value Analysis\n"
   ]
  },
  {
   "cell_type": "code",
   "execution_count": 102,
   "metadata": {},
   "outputs": [
    {
     "name": "stdout",
     "output_type": "stream",
     "text": [
      "--- Missing Values per Column ---\n",
      "Series([], dtype: int64)\n",
      "No missing values found. Data is clean.\n"
     ]
    }
   ],
   "source": [
    "## Section 3.3 Missing Value Analysis\n",
    "\n",
    "missing_values = df.isnull().sum()\n",
    "print(\"--- Missing Values per Column ---\")\n",
    "print(missing_values[missing_values > 0].sort_values(ascending=False))\n",
    "if missing_values.sum() == 0:\n",
    "    print(\"No missing values found. Data is clean.\")"
   ]
  },
  {
   "cell_type": "markdown",
   "metadata": {},
   "source": [
    "## 4. Feature Definition\n"
   ]
  },
  {
   "cell_type": "code",
   "execution_count": 103,
   "metadata": {},
   "outputs": [
    {
     "name": "stdout",
     "output_type": "stream",
     "text": [
      "Target Column: Credit Score\n",
      "Total Features: 7\n",
      "Numerical Features: ['Age', 'Income', 'Number of Children']\n",
      "Categorical Features: ['Gender', 'Education', 'Marital Status', 'Home Ownership']\n"
     ]
    }
   ],
   "source": [
    "TARGET_COLUMN = 'Credit Score'\n",
    "\n",
    "NUMERICAL_FEATURES = [\n",
    "    'Age', \n",
    "    'Income', \n",
    "    'Number of Children'\n",
    "]\n",
    "\n",
    "CATEGORICAL_FEATURES = [\n",
    "    'Gender', \n",
    "    'Education', \n",
    "    'Marital Status', \n",
    "    'Home Ownership'\n",
    "]\n",
    "\n",
    "# Display the final features set\n",
    "print(f\"Target Column: {TARGET_COLUMN}\")\n",
    "print(f\"Total Features: {len(NUMERICAL_FEATURES) + len(CATEGORICAL_FEATURES)}\")\n",
    "print(f\"Numerical Features: {NUMERICAL_FEATURES}\")\n",
    "print(f\"Categorical Features: {CATEGORICAL_FEATURES}\")"
   ]
  },
  {
   "cell_type": "markdown",
   "metadata": {},
   "source": [
    "4.1 Train/Test Split\n",
    "We keep a stratified hold-out test set to evaluate generalization fairly.\n"
   ]
  },
  {
   "cell_type": "code",
   "execution_count": 104,
   "metadata": {},
   "outputs": [
    {
     "name": "stdout",
     "output_type": "stream",
     "text": [
      "Train: (131, 7), Test: (33, 7)\n"
     ]
    }
   ],
   "source": [
    "# Train/test split with stratification\n",
    "X_train, X_test, y_train, y_test = train_test_split(\n",
    "    X, y, test_size=0.2, random_state=42, stratify=y\n",
    ")\n",
    "print(f\"Train: {X_train.shape}, Test: {X_test.shape}\")"
   ]
  },
  {
   "cell_type": "markdown",
   "metadata": {},
   "source": [
    "### 5. Preprocessing Pipeline\n",
    "We build a reusable preprocessing pipeline for numeric and categorical columns using imputation, scaling, and one-hot encoding.\n"
   ]
  },
  {
   "cell_type": "code",
   "execution_count": 105,
   "metadata": {},
   "outputs": [],
   "source": [
    "# Preprocessing pipelines\n",
    "numeric_transformer = Pipeline(steps=[\n",
    "    (\"imputer\", SimpleImputer(strategy=\"median\")),\n",
    "    (\"scaler\", StandardScaler())\n",
    "])\n",
    "\n",
    "categorical_transformer = Pipeline(steps=[\n",
    "    (\"imputer\", SimpleImputer(strategy=\"most_frequent\")),\n",
    "    (\"onehot\", OneHotEncoder(handle_unknown=\"ignore\"))\n",
    "])\n",
    "\n",
    "preprocessor = ColumnTransformer(\n",
    "    transformers=[\n",
    "        (\"num\", numeric_transformer, num_cols),\n",
    "        (\"cat\", categorical_transformer, cat_cols)\n",
    "    ], remainder='drop'\n",
    ")\n",
    "\n",
    "# Helper to get feature names after preprocessing\n",
    "def get_preprocessed_feature_names(preprocessor: ColumnTransformer) -> list:\n",
    "    output_features = []\n",
    "    if num_cols:\n",
    "        output_features.extend(num_cols)\n",
    "    if cat_cols:\n",
    "        try:\n",
    "            ohe = preprocessor.named_transformers_[\"cat\"].named_steps[\"onehot\"]\n",
    "            ohe_features = ohe.get_feature_names_out(cat_cols).tolist()\n",
    "        except Exception:\n",
    "            ohe_features = []\n",
    "        output_features = output_features + ohe_features\n",
    "    return output_features"
   ]
  },
  {
   "cell_type": "markdown",
   "metadata": {},
   "source": [
    "### 6. Model\n",
    "We define a strong baseline model (`RandomForestClassifier`).\n"
   ]
  },
  {
   "cell_type": "code",
   "execution_count": 106,
   "metadata": {},
   "outputs": [],
   "source": [
    "# Define models\n",
    "log_reg = LogisticRegression(max_iter=2000, n_jobs=None, class_weight=\"balanced\", multi_class=\"auto\")\n",
    "rf_clf = RandomForestClassifier(\n",
    "    n_estimators=400,\n",
    "    random_state=42,\n",
    "    class_weight=\"balanced_subsample\",\n",
    "    n_jobs=-1\n",
    ")\n",
    "\n",
    "# Build full pipeline with RandomForest (often strong baseline for tabular)\n",
    "rf_pipeline = Pipeline(steps=[\n",
    "    (\"preprocess\", preprocessor),\n",
    "    (\"model\", rf_clf)\n",
    "])\n",
    "\n",
    "# Hyperparameter search space for RF\n",
    "rf_param_distributions = {\n",
    "    \"model__n_estimators\": [200, 300, 400, 600, 800],\n",
    "    \"model__max_depth\": [None, 5, 10, 15, 20, 30],\n",
    "    \"model__min_samples_split\": [2, 5, 10, 20],\n",
    "    \"model__min_samples_leaf\": [1, 2, 4, 8],\n",
    "    \"model__max_features\": [\"sqrt\", \"log2\", 0.5, 0.7, 1.0]\n",
    "}\n",
    "\n",
    "cv = StratifiedKFold(n_splits=5, shuffle=True, random_state=42)\n",
    "rf_search = RandomizedSearchCV(\n",
    "    estimator=rf_pipeline,\n",
    "    param_distributions=rf_param_distributions,\n",
    "    n_iter=30,\n",
    "    scoring=\"f1_macro\",\n",
    "    cv=cv,\n",
    "    n_jobs=-1,\n",
    "    verbose=1,\n",
    "    random_state=42\n",
    ")"
   ]
  },
  {
   "cell_type": "markdown",
   "metadata": {},
   "source": [
    "### 7. Fit with Cross-Validation\n",
    "Run randomized search with stratified folds optimizing F1-macro.\n"
   ]
  },
  {
   "cell_type": "code",
   "execution_count": 107,
   "metadata": {},
   "outputs": [
    {
     "name": "stdout",
     "output_type": "stream",
     "text": [
      "Fitting 5 folds for each of 30 candidates, totalling 150 fits\n"
     ]
    },
    {
     "name": "stdout",
     "output_type": "stream",
     "text": [
      "Best CV score (f1_macro): 0.9657912457912458\n",
      "Best params: {'model__n_estimators': 300, 'model__min_samples_split': 2, 'model__min_samples_leaf': 1, 'model__max_features': 1.0, 'model__max_depth': 15}\n"
     ]
    }
   ],
   "source": [
    "# Run hyperparameter search\n",
    "rf_search.fit(X_train, y_train)\n",
    "print(\"Best CV score (f1_macro):\", rf_search.best_score_)\n",
    "print(\"Best params:\", rf_search.best_params_)\n",
    "\n",
    "best_model = rf_search.best_estimator_\n"
   ]
  },
  {
   "cell_type": "markdown",
   "metadata": {},
   "source": [
    "6.1 Classification Report & Confusion Matrix\n"
   ]
  },
  {
   "cell_type": "code",
   "execution_count": 108,
   "metadata": {},
   "outputs": [
    {
     "name": "stdout",
     "output_type": "stream",
     "text": [
      "--- 6.1 Classification Report ---\n",
      "              precision    recall  f1-score   support\n",
      "\n",
      "     Average       1.00      1.00      1.00         7\n",
      "        High       1.00      1.00      1.00        23\n",
      "         Low       1.00      1.00      1.00         3\n",
      "\n",
      "    accuracy                           1.00        33\n",
      "   macro avg       1.00      1.00      1.00        33\n",
      "weighted avg       1.00      1.00      1.00        33\n",
      "\n",
      "--- 6.2 Confusion Matrix Plot ---\n"
     ]
    },
    {
     "data": {
      "text/plain": [
       "<Figure size 800x600 with 0 Axes>"
      ]
     },
     "metadata": {},
     "output_type": "display_data"
    },
    {
     "data": {
      "image/png": "[encoded data removed]",
      "text/plain": [
       "<Figure size 640x480 with 2 Axes>"
      ]
     },
     "metadata": {},
     "output_type": "display_data"
    }
   ],
   "source": [
    "# 6.1 Classification Report\n",
    "print(\"--- 6.1 Classification Report ---\")\n",
    "print(classification_report(y_test, y_pred, zero_division=0))\n",
    "\n",
    "\n",
    "# 6.2 Confusion Matrix Plot\n",
    "print(\"--- 6.2 Confusion Matrix Plot ---\")\n",
    "cm = confusion_matrix(y_test, y_pred, labels=best_model.classes_)\n",
    "\n",
    "plt.figure(figsize=(8, 6))\n",
    "disp = ConfusionMatrixDisplay(confusion_matrix=cm, display_labels=best_model.classes_)\n",
    "disp.plot(cmap=plt.cm.Blues)\n",
    "plt.title('Confusion Matrix on Test Data')\n",
    "plt.grid(False) # Turn off grid for cleaner look\n",
    "plt.show()"
   ]
  },
  {
   "cell_type": "code",
   "execution_count": 109,
   "metadata": {},
   "outputs": [
    {
     "name": "stdout",
     "output_type": "stream",
     "text": [
      "ROC-AUC: 1.0\n",
      "Saved model to best_credit_score_model.joblib\n"
     ]
    }
   ],
   "source": [
    "# For multiclass ROC-AUC, we can use OvR setting\n",
    "try:\n",
    "    y_proba = best_model.predict_proba(X_test)\n",
    "    if y_proba.ndim == 2 and y_proba.shape[1] > 2:\n",
    "        auc = roc_auc_score(y_test, y_proba, multi_class='ovr')\n",
    "    else:\n",
    "        auc = roc_auc_score(y_test, y_proba[:, 1])\n",
    "    print(\"ROC-AUC:\", auc)\n",
    "except Exception as e:\n",
    "    print(\"ROC-AUC not available:\", e)\n",
    "\n",
    "# Persist the best model\n",
    "joblib.dump(best_model, 'best_credit_score_model.joblib')\n",
    "print(\"Saved model to best_credit_score_model.joblib\")"
   ]
  },
  {
   "cell_type": "code",
   "execution_count": 110,
   "metadata": {},
   "outputs": [
    {
     "data": {
      "image/png": "[encoded data removed]",
      "text/plain": [
       "<Figure size 800x500 with 1 Axes>"
      ]
     },
     "metadata": {},
     "output_type": "display_data"
    }
   ],
   "source": [
    "# Feature importance via permutation_importance on the test set\n",
    "try:\n",
    "    # Grab the fitted preprocessing + model pipeline\n",
    "    fitted_pre = best_model.named_steps['preprocess']\n",
    "    feature_names = get_preprocessed_feature_names(fitted_pre)\n",
    "except Exception:\n",
    "    feature_names = None\n",
    "\n",
    "result = permutation_importance(\n",
    "    best_model, X_test, y_test, n_repeats=10, random_state=42, n_jobs=-1, scoring='f1_macro'\n",
    ")\n",
    "importances = result.importances_mean\n",
    "indices = np.argsort(importances)[::-1]\n",
    "\n",
    "top_k = min(15, len(importances))\n",
    "plt.figure(figsize=(8, 5))\n",
    "labels = [feature_names[i] if feature_names is not None and i < len(feature_names) else f\"f{i}\" for i in indices[:top_k]]\n",
    "plt.barh(range(top_k), importances[indices[:top_k]][::-1])\n",
    "plt.yticks(range(top_k), labels[::-1])\n",
    "plt.xlabel('Permutation importance (F1-macro)')\n",
    "plt.title('Top features')\n",
    "plt.tight_layout()\n",
    "plt.show()\n"
   ]
  },
  {
   "cell_type": "markdown",
   "metadata": {},
   "source": [
    "### 8. Save Model & How To Use\n",
    "We save the fitted pipeline and show how to load and predict in a new session.\n"
   ]
  },
  {
   "cell_type": "code",
   "execution_count": 111,
   "metadata": {},
   "outputs": [
    {
     "name": "stdout",
     "output_type": "stream",
     "text": [
      "Prediction for raw data: High\n",
      "Prediction Probabilities: [0.15333333 0.84666667 0.        ]\n"
     ]
    }
   ],
   "source": [
    "import joblib\n",
    "import pandas as pd\n",
    "\n",
    "# Load the saved pipeline\n",
    "loaded_pipeline = joblib.load('best_credit_score_model.joblib')\n",
    "\n",
    "# --- 1. Create a single row of RAW, UNPROCESSED data ---\n",
    "# This data MUST look exactly like a row from your original CSV file\n",
    "raw_test_data = pd.DataFrame({\n",
    "    'Age': [30],\n",
    "    'Gender': ['Female'],\n",
    "    'Income': [75000],\n",
    "    'Education': [\"Master's Degree\"],\n",
    "    'Marital Status': ['Married'],\n",
    "    'Number of Children': [1],\n",
    "    'Home Ownership': ['Owned']\n",
    "})\n",
    "\n",
    "# --- 2. Test the prediction ---\n",
    "# If this line runs successfully, the pipeline was saved correctly!\n",
    "prediction = loaded_pipeline.predict(raw_test_data)\n",
    "probability = loaded_pipeline.predict_proba(raw_test_data)\n",
    "\n",
    "print(f\"Prediction for raw data: {prediction[0]}\")\n",
    "print(f\"Prediction Probabilities: {probability[0]}\")"
   ]
  },
  {
   "cell_type": "markdown",
   "metadata": {},
   "source": [
    "### 9. Verdict / Result\n",
    "\n",
    "The final modeling approach successfully delivered a robust classification system:\n",
    "\n",
    "* **Reproducibility:** The end-to-end pipeline, utilizing a `ColumnTransformer`, ensures clean and reliable handling of numeric and categorical features.\n",
    "* **Optimization:** Stratified splitting and cross-validated tuning optimized the model for the critical `f1_macro` metric, providing confidence in performance across all credit score classes despite any class imbalance.\n",
    "* **Performance:** The tuned `RandomForestClassifier` achieved strong performance on the hold-out test set, as detailed in the Classification Report and Confusion Matrix.\n",
    "* **Model Persistence:** The final, optimized pipeline (including preprocessing steps) is saved as `best_credit_score_model.joblib` and can be loaded directly for deployment.\n",
    "\n"
   ]
  },
  {
   "cell_type": "code",
   "execution_count": null,
   "metadata": {},
   "outputs": [],
   "source": []
  }
 ],
 "metadata": {
  "kernelspec": {
   "display_name": "Python 3",
   "language": "python",
   "name": "python3"
  },
  "language_info": {
   "codemirror_mode": {
    "name": "ipython",
    "version": 3
   },
   "file_extension": ".py",
   "mimetype": "text/x-python",
   "name": "python",
   "nbconvert_exporter": "python",
   "pygments_lexer": "ipython3",
   "version": "3.13.1"
  }
 },
 "nbformat": 4,
 "nbformat_minor": 2
}
